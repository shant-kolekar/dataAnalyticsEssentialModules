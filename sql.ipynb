{
  "nbformat": 4,
  "nbformat_minor": 0,
  "metadata": {
    "colab": {
      "provenance": [],
      "collapsed_sections": [
        "45VC6ATJtGBK"
      ],
      "authorship_tag": "ABX9TyPvNaQ9kjx/20dExvV5bHQp",
      "include_colab_link": true
    },
    "kernelspec": {
      "name": "python3",
      "display_name": "Python 3"
    },
    "language_info": {
      "name": "python"
    }
  },
  "cells": [
    {
      "cell_type": "markdown",
      "metadata": {
        "id": "view-in-github",
        "colab_type": "text"
      },
      "source": [
        "<a href=\"https://colab.research.google.com/github/shant-kolekar/dataAnalyticsEssentialModules/blob/main/sql.ipynb\" target=\"_parent\"><img src=\"https://colab.research.google.com/assets/colab-badge.svg\" alt=\"Open In Colab\"/></a>"
      ]
    },
    {
      "cell_type": "markdown",
      "source": [
        "# Resources\n",
        "* Go to Resource: https://www.sqltutorial.org/sql-functions/\n",
        "* Another: https://www.w3schools.com/sqL/sql_ref_sqlserver.asp\n"
      ],
      "metadata": {
        "id": "nwij4eNboeJv"
      }
    },
    {
      "cell_type": "markdown",
      "source": [
        "# DateTime Funcitons\n"
      ],
      "metadata": {
        "id": "iaT7gruAosbf"
      }
    },
    {
      "cell_type": "markdown",
      "source": [
        "## CAST"
      ],
      "metadata": {
        "id": "qbOr1L81qUc2"
      }
    },
    {
      "cell_type": "markdown",
      "source": [
        "**Description**:  \n",
        "Convert or change data type of an expression.\n",
        "\n",
        "**Syntax**:  \n",
        "`CAST(expression AS data_type)`\n",
        "\n",
        "**Parameters**:\n",
        "- `expression`:  \n",
        "  - **Type**: Any data type  \n",
        "  - **Description**: The value to be converted.\n",
        "  \n",
        "- `data_type`:  \n",
        "  - **Type**: Data type  \n",
        "  - **Description**: The target data type.\n",
        "\n",
        "**List of Data Types**:\n",
        "- `date`\n",
        "- `datetime`\n",
        "- `time`\n",
        "- `float`\n",
        "- `int`\n",
        "- `decimal`\n",
        "\n",
        "**Example**:\n",
        "```sql\n",
        "SELECT CAST(column_name AS INT) AS NewColumn\n",
        "FROM table_name;\n",
        "```"
      ],
      "metadata": {
        "id": "7keWQp3xoxPg"
      }
    },
    {
      "cell_type": "markdown",
      "source": [
        "## FORMAT"
      ],
      "metadata": {
        "id": "zPSP9RyMqvkB"
      }
    },
    {
      "cell_type": "markdown",
      "source": [
        "\n",
        "**Description**:  \n",
        "Change date/currency to the desired format.\n",
        "\n",
        "**Syntax**:  \n",
        "`FORMAT(expression, format_type, culture)`\n",
        "\n",
        "**Parameters**:\n",
        "- `expression`:  \n",
        "  - **Type**: Any data type  \n",
        "  - **Description**: The value to be formatted.\n",
        "  \n",
        "- `format_type`:  \n",
        "  - **Type**: String  \n",
        "  - **Description**: Format specifier for numeric or datetime formats.\n",
        "  \n",
        "- `culture`:  \n",
        "  - **Type**: String  \n",
        "  - **Description**: Optional. Culture code for locale-specific formatting (e.g., 'en-US').\n",
        "\n",
        "---\n",
        "\n",
        "### Numeric Format Example:\n",
        "```sql\n",
        "SELECT TOP (5) CurrencyRateID,\n",
        "       EndOfDayRate,\n",
        "       FORMAT(EndOfDayRate, 'N', 'en-us') AS 'Numeric Format',\n",
        "       FORMAT(EndOfDayRate, 'G', 'en-us') AS 'General Format',\n",
        "       FORMAT(EndOfDayRate, 'C', 'en-us') AS 'Currency Format'\n",
        "FROM Sales.CurrencyRate\n",
        "ORDER BY CurrencyRateID;\n",
        "\n",
        "```"
      ],
      "metadata": {
        "id": "Jdd4KkOHqqj0"
      }
    },
    {
      "cell_type": "markdown",
      "source": [
        "| CurrencyRateID | EndOfDayRate | Numeric Format | General Format | Currency Format |\n",
        "|----------------|--------------|----------------|----------------|-----------------|\n",
        "| 1              | 1.0002       | 1.00           | 1.0002         | $1.00           |\n",
        "| 2              | 1.55         | 1.55           | 1.5500         | $1.55           |\n",
        "| 3              | 1.9419       | 1.94           | 1.9419         | $1.94           |\n",
        "| 4              | 1.4683       | 1.47           | 1.4683         | $1.47           |\n",
        "| 5              | 8.2784       | 8.28           | 8.2784         | $8.28           |\n",
        "\n",
        "\n"
      ],
      "metadata": {
        "id": "Lq8ci02cr0eY"
      }
    },
    {
      "cell_type": "code",
      "source": [],
      "metadata": {
        "id": "4b9hFqZEqtAa"
      },
      "execution_count": null,
      "outputs": []
    },
    {
      "cell_type": "markdown",
      "source": [
        "## Datetime Format Example:"
      ],
      "metadata": {
        "id": "aZiETe6gs5Z6"
      }
    },
    {
      "cell_type": "markdown",
      "source": [
        "\n",
        "\n",
        "### Format Specifiers:\n",
        "\n",
        "| Format Specifier | Description                                  | Example                              |\n",
        "|------------------|----------------------------------------------|--------------------------------------|\n",
        "| `dd`             | The day of the month, from 01 to 31.         | `'2009-06-15T13:45:30'` -> `'15'`    |\n",
        "| `HH`             | The hour, using a 24-hour clock from 00 to 23.| `'2009-06-15T13:45:30'` -> `'13'`    |\n",
        "| `mm`             | The minute, from 00 to 59.                   | `'2009-06-15T01:45:30'` -> `'45'`    |\n",
        "| `MM`             | The month, from 01 to 12.                    | `'2009-06-15T13:45:30'` -> `'06'`    |\n",
        "| `MMMM`           | The full name of the month.                  | `'2009-06-15T13:45:30'` -> `'June'`  |\n",
        "| `ss`             | The second, from 00 to 59.                   | `'2009-06-15T13:45:30'` -> `'09'`    |\n",
        "| `yyyy`           | The year as a four-digit number.             | `'2009-06-15T13:45:30'` -> `'2009'`  |\n",
        "\n",
        "\n",
        "---\n",
        "\n",
        "### Datetime Format Example Query:\n",
        "\n",
        "```sql\n",
        "SELECT\n",
        "    FORMAT(GETDATE(), 'dd-MM-yyyy') AS 'Formatted Date',\n",
        "    FORMAT(GETDATE(), 'HH:mm:ss') AS 'Formatted Time';\n",
        "\n",
        "```\n",
        "| Formatted Date | Formatted Time |\n",
        "|----------------|----------------|\n",
        "| 07-10-2024     | 13:45:30       |\n",
        "\n"
      ],
      "metadata": {
        "id": "-PZfPSUjsdlC"
      }
    },
    {
      "cell_type": "markdown",
      "source": [
        "# Window Functions\n",
        "\n",
        "* Well Explalined here : https://www.sqltutorial.org/sql-window-functions/\n"
      ],
      "metadata": {
        "id": "45VC6ATJtGBK"
      }
    },
    {
      "cell_type": "markdown",
      "source": [
        "# VIEWS"
      ],
      "metadata": {
        "id": "K8raf2k1amZ_"
      }
    },
    {
      "cell_type": "markdown",
      "source": [
        "### SQL Views\n",
        "A view is a virtual table generated by executing a query in a relational database, It doens't exits in database. The RDBMS stores the view as a named SELECT statement, and whenever you reference the view, the query is executed to produce the data.\n",
        "\n",
        "### Why Use Views\n",
        "- **Simplify Complex Queries**: Store complex queries as a view and access data with a simple SELECT statement.\n",
        "- **Data Security**: Restrict access to specific columns, and only necessary data by allowing users to interact only with the view, instead of entire database/table.\n",
        "- **Data Packaging**: Create custom data views for different user groups, e.g., showing only salary data to the Finance department.\n",
        "\n",
        "### Creating Views\n",
        "```sql\n",
        "CREATE VIEW view_name AS\n",
        "SELECT column_list FROM table_name;\n",
        "```\n",
        ">For example:\n",
        "```sql\n",
        "CREATE VIEW employee_contacts AS\n",
        "    SELECT first_name, last_name, email, phone_number, department_name\n",
        "    FROM employees e\n",
        "    INNER JOIN departments d ON d.department_id = e.department_id\n",
        "    ORDER BY first_name;\n",
        "```\n",
        ">You can rename columns in a view by specifying new column names after the `CREATE VIEW` clause:, If column names are not specified then names of base table columns are selected.\n",
        "```sql\n",
        "CREATE VIEW payroll (first_name, last_name, job, compensation) AS\n",
        "    SELECT first_name, last_name, job_title, salary\n",
        "    FROM employees e\n",
        "    INNER JOIN jobs j ON j.job_id = e.job_id\n",
        "    ORDER BY first_name;\n",
        "```\n",
        "\n",
        "### Querying Data from Views\n",
        ">Querying data from views is similar to querying from tables:\n",
        "```sql\n",
        "SELECT * FROM employee_contacts;\n",
        "```\n",
        ">You can also filter, group, and aggregate data from views:\n",
        "```sql\n",
        "SELECT job, MIN(compensation), MAX(compensation), AVG(compensation)\n",
        "FROM payroll\n",
        "WHERE job LIKE 'A%'\n",
        "GROUP BY job;\n",
        "```\n",
        "\n",
        "### Modifying Views\n",
        "To modify a view, use `CREATE OR REPLACE VIEW`:\n",
        "\n",
        "The statement creates a view if it does not exist or change the current view if the view already exists.\n",
        "\n",
        "\n",
        "```sql\n",
        "CREATE OR REPLACE VIEW view_name AS\n",
        "SELECT column_list FROM table_name;\n",
        "```\n",
        ">Example:\n",
        "```sql\n",
        "CREATE OR REPLACE VIEW payroll (first_name, last_name, job, department, salary) AS\n",
        "    SELECT first_name, last_name, job_title, department_name, salary\n",
        "    FROM employees e\n",
        "    INNER JOIN jobs j ON j.job_id = e.job_id\n",
        "    INNER JOIN departments d ON d.department_id = e.department_id\n",
        "    ORDER BY first_name;\n",
        "```\n",
        "\n",
        "### Removing Views\n",
        "To remove a view from the database, The DROP VIEW statement deletes the view only, not the base tables.\n",
        "\n",
        "\n",
        "```sql\n",
        "DROP VIEW view_name;\n",
        "```\n",
        ">For example:\n",
        "```sql\n",
        "DROP VIEW payroll;\n",
        "```"
      ],
      "metadata": {
        "id": "RqYe8sd8arcq"
      }
    },
    {
      "cell_type": "code",
      "source": [],
      "metadata": {
        "id": "zj6IrpuPcxdR"
      },
      "execution_count": null,
      "outputs": []
    }
  ]
}