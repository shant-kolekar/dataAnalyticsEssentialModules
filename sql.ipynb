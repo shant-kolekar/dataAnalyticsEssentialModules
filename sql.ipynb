{
  "nbformat": 4,
  "nbformat_minor": 0,
  "metadata": {
    "colab": {
      "provenance": [],
      "authorship_tag": "ABX9TyNjlg4bycV5gWwmto8MOFuA",
      "include_colab_link": true
    },
    "kernelspec": {
      "name": "python3",
      "display_name": "Python 3"
    },
    "language_info": {
      "name": "python"
    }
  },
  "cells": [
    {
      "cell_type": "markdown",
      "metadata": {
        "id": "view-in-github",
        "colab_type": "text"
      },
      "source": [
        "<a href=\"https://colab.research.google.com/github/shant-kolekar/dataAnalyticsEssentialModules/blob/main/sql.ipynb\" target=\"_parent\"><img src=\"https://colab.research.google.com/assets/colab-badge.svg\" alt=\"Open In Colab\"/></a>"
      ]
    },
    {
      "cell_type": "markdown",
      "source": [
        "# Resources\n",
        "* Go to Resource: https://www.sqltutorial.org/sql-functions/\n",
        "* Another: https://www.w3schools.com/sqL/sql_ref_sqlserver.asp\n"
      ],
      "metadata": {
        "id": "nwij4eNboeJv"
      }
    },
    {
      "cell_type": "markdown",
      "source": [
        "# DateTime Funcitons\n"
      ],
      "metadata": {
        "id": "iaT7gruAosbf"
      }
    },
    {
      "cell_type": "markdown",
      "source": [
        "## CAST"
      ],
      "metadata": {
        "id": "qbOr1L81qUc2"
      }
    },
    {
      "cell_type": "markdown",
      "source": [
        "**Description**:  \n",
        "Convert or change data type of an expression.\n",
        "\n",
        "**Syntax**:  \n",
        "`CAST(expression AS data_type)`\n",
        "\n",
        "**Parameters**:\n",
        "- `expression`:  \n",
        "  - **Type**: Any data type  \n",
        "  - **Description**: The value to be converted.\n",
        "  \n",
        "- `data_type`:  \n",
        "  - **Type**: Data type  \n",
        "  - **Description**: The target data type.\n",
        "\n",
        "**List of Data Types**:\n",
        "- `date`\n",
        "- `datetime`\n",
        "- `time`\n",
        "- `float`\n",
        "- `int`\n",
        "- `decimal`\n",
        "\n",
        "**Example**:\n",
        "```sql\n",
        "SELECT CAST(column_name AS INT) AS NewColumn\n",
        "FROM table_name;\n",
        "```"
      ],
      "metadata": {
        "id": "7keWQp3xoxPg"
      }
    },
    {
      "cell_type": "markdown",
      "source": [
        "## FORMAT"
      ],
      "metadata": {
        "id": "zPSP9RyMqvkB"
      }
    },
    {
      "cell_type": "markdown",
      "source": [
        "\n",
        "**Description**:  \n",
        "Change date/currency to the desired format.\n",
        "\n",
        "**Syntax**:  \n",
        "`FORMAT(expression, format_type, culture)`\n",
        "\n",
        "**Parameters**:\n",
        "- `expression`:  \n",
        "  - **Type**: Any data type  \n",
        "  - **Description**: The value to be formatted.\n",
        "  \n",
        "- `format_type`:  \n",
        "  - **Type**: String  \n",
        "  - **Description**: Format specifier for numeric or datetime formats.\n",
        "  \n",
        "- `culture`:  \n",
        "  - **Type**: String  \n",
        "  - **Description**: Optional. Culture code for locale-specific formatting (e.g., 'en-US').\n",
        "\n",
        "---\n",
        "\n",
        "### Numeric Format Example:\n",
        "```sql\n",
        "SELECT TOP (5) CurrencyRateID,\n",
        "       EndOfDayRate,\n",
        "       FORMAT(EndOfDayRate, 'N', 'en-us') AS 'Numeric Format',\n",
        "       FORMAT(EndOfDayRate, 'G', 'en-us') AS 'General Format',\n",
        "       FORMAT(EndOfDayRate, 'C', 'en-us') AS 'Currency Format'\n",
        "FROM Sales.CurrencyRate\n",
        "ORDER BY CurrencyRateID;\n",
        "\n",
        "```"
      ],
      "metadata": {
        "id": "Jdd4KkOHqqj0"
      }
    },
    {
      "cell_type": "markdown",
      "source": [
        "| CurrencyRateID | EndOfDayRate | Numeric Format | General Format | Currency Format |\n",
        "|----------------|--------------|----------------|----------------|-----------------|\n",
        "| 1              | 1.0002       | 1.00           | 1.0002         | $1.00           |\n",
        "| 2              | 1.55         | 1.55           | 1.5500         | $1.55           |\n",
        "| 3              | 1.9419       | 1.94           | 1.9419         | $1.94           |\n",
        "| 4              | 1.4683       | 1.47           | 1.4683         | $1.47           |\n",
        "| 5              | 8.2784       | 8.28           | 8.2784         | $8.28           |\n",
        "\n",
        "\n"
      ],
      "metadata": {
        "id": "Lq8ci02cr0eY"
      }
    },
    {
      "cell_type": "code",
      "source": [],
      "metadata": {
        "id": "4b9hFqZEqtAa"
      },
      "execution_count": null,
      "outputs": []
    },
    {
      "cell_type": "markdown",
      "source": [
        "## Datetime Format Example:"
      ],
      "metadata": {
        "id": "aZiETe6gs5Z6"
      }
    },
    {
      "cell_type": "markdown",
      "source": [
        "\n",
        "\n",
        "### Format Specifiers:\n",
        "\n",
        "| Format Specifier | Description                                  | Example                              |\n",
        "|------------------|----------------------------------------------|--------------------------------------|\n",
        "| `dd`             | The day of the month, from 01 to 31.         | `'2009-06-15T13:45:30'` -> `'15'`    |\n",
        "| `HH`             | The hour, using a 24-hour clock from 00 to 23.| `'2009-06-15T13:45:30'` -> `'13'`    |\n",
        "| `mm`             | The minute, from 00 to 59.                   | `'2009-06-15T01:45:30'` -> `'45'`    |\n",
        "| `MM`             | The month, from 01 to 12.                    | `'2009-06-15T13:45:30'` -> `'06'`    |\n",
        "| `MMMM`           | The full name of the month.                  | `'2009-06-15T13:45:30'` -> `'June'`  |\n",
        "| `ss`             | The second, from 00 to 59.                   | `'2009-06-15T13:45:30'` -> `'09'`    |\n",
        "| `yyyy`           | The year as a four-digit number.             | `'2009-06-15T13:45:30'` -> `'2009'`  |\n",
        "\n",
        "\n",
        "---\n",
        "\n",
        "### Datetime Format Example Query:\n",
        "\n",
        "```sql\n",
        "SELECT\n",
        "    FORMAT(GETDATE(), 'dd-MM-yyyy') AS 'Formatted Date',\n",
        "    FORMAT(GETDATE(), 'HH:mm:ss') AS 'Formatted Time';\n",
        "\n",
        "```\n",
        "| Formatted Date | Formatted Time |\n",
        "|----------------|----------------|\n",
        "| 07-10-2024     | 13:45:30       |\n",
        "\n"
      ],
      "metadata": {
        "id": "-PZfPSUjsdlC"
      }
    },
    {
      "cell_type": "code",
      "source": [],
      "metadata": {
        "id": "h-559ALUsd_X"
      },
      "execution_count": null,
      "outputs": []
    }
  ]
}