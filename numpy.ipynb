{
  "nbformat": 4,
  "nbformat_minor": 0,
  "metadata": {
    "colab": {
      "provenance": [],
      "toc_visible": true
    },
    "kernelspec": {
      "name": "python3",
      "display_name": "Python 3"
    },
    "language_info": {
      "name": "python"
    }
  },
  "cells": [
    {
      "cell_type": "markdown",
      "source": [
        "## Important Resources which covers most numpy concepts: https://www.tutorialspoint.com/numpy/index.htm"
      ],
      "metadata": {
        "id": "sOOGiBx7-OG2"
      }
    },
    {
      "cell_type": "code",
      "execution_count": null,
      "metadata": {
        "id": "6QgxWhIXhw0z"
      },
      "outputs": [],
      "source": [
        "import numpy as np"
      ]
    },
    {
      "cell_type": "markdown",
      "source": [
        "# Creating Arrays\n",
        "\n",
        "* All elements in numpy array must be same datatype that way it takes less space in memory. If varying datatypes are there in a list then it is converted to highest level data type.\n",
        "\n",
        "* For Example: `l = ['abc', 1, True, 2.50, [1,2,3]]`\n",
        "\n",
        "* `np.array(l)` will have `str` data type as it is highest level data type in above list.\n",
        "\n",
        "* Order of highest to lowest data type: `str > float > int > bool`\n",
        "\n"
      ],
      "metadata": {
        "id": "ZOXo-wPBp6_F"
      }
    },
    {
      "cell_type": "markdown",
      "source": [
        "## Create 1-D Array"
      ],
      "metadata": {
        "id": "wl15cqwvp9sI"
      }
    },
    {
      "cell_type": "code",
      "source": [
        "one_d_arr = np.array([1,2,3])\n",
        "print(one_d_arr)\n",
        "print(one_d_arr.shape)"
      ],
      "metadata": {
        "colab": {
          "base_uri": "https://localhost:8080/"
        },
        "id": "xO_0NSPJhz9S",
        "outputId": "0c77e414-c7be-4408-9e18-9ddfc8eaa398"
      },
      "execution_count": null,
      "outputs": [
        {
          "output_type": "stream",
          "name": "stdout",
          "text": [
            "[1 2 3]\n",
            "(3,)\n"
          ]
        }
      ]
    },
    {
      "cell_type": "markdown",
      "source": [
        "## Create 2-D Array"
      ],
      "metadata": {
        "id": "rAV-uMIOqBcD"
      }
    },
    {
      "cell_type": "code",
      "source": [
        "two_d_arr = np.array([[1,2,3], [4,5,6]])\n",
        "print(two_d_arr)\n",
        "print(two_d_arr.shape)"
      ],
      "metadata": {
        "colab": {
          "base_uri": "https://localhost:8080/"
        },
        "id": "kr2Fl3hspx7J",
        "outputId": "6d7bd1a6-5e34-48cf-af3d-52d8b28188d8"
      },
      "execution_count": null,
      "outputs": [
        {
          "output_type": "stream",
          "name": "stdout",
          "text": [
            "[[1 2 3]\n",
            " [4 5 6]]\n",
            "(2, 3)\n"
          ]
        }
      ]
    },
    {
      "cell_type": "markdown",
      "source": [
        " ## Create 3-D Array"
      ],
      "metadata": {
        "id": "KaBFChkRqSOX"
      }
    },
    {
      "cell_type": "code",
      "source": [
        "three_d_arr = np.array([[[1,2,3], [4,5,6]], [[1,2,3], [4,5,6]]])\n",
        "print(three_d_arr)\n",
        "print(three_d_arr.shape)"
      ],
      "metadata": {
        "colab": {
          "base_uri": "https://localhost:8080/"
        },
        "id": "iKa9HyIeqOBF",
        "outputId": "66b3893f-0bad-433b-9112-ea6863783648"
      },
      "execution_count": null,
      "outputs": [
        {
          "output_type": "stream",
          "name": "stdout",
          "text": [
            "[[[1 2 3]\n",
            "  [4 5 6]]\n",
            "\n",
            " [[1 2 3]\n",
            "  [4 5 6]]]\n",
            "(2, 2, 3)\n"
          ]
        }
      ]
    },
    {
      "cell_type": "markdown",
      "source": [
        "## Creating array from scratch using Functions"
      ],
      "metadata": {
        "id": "vDTZ5CKYtn1Y"
      }
    },
    {
      "cell_type": "markdown",
      "source": [
        "### Create array with Zeros\n"
      ],
      "metadata": {
        "id": "8ul5hy9Ltwgd"
      }
    },
    {
      "cell_type": "code",
      "source": [
        "np.zeros((5,3))"
      ],
      "metadata": {
        "colab": {
          "base_uri": "https://localhost:8080/"
        },
        "id": "MP3OR8yWqpL5",
        "outputId": "d4edf7c8-3a46-42b3-b7b1-35d09443c864"
      },
      "execution_count": null,
      "outputs": [
        {
          "output_type": "execute_result",
          "data": {
            "text/plain": [
              "array([[0., 0., 0.],\n",
              "       [0., 0., 0.],\n",
              "       [0., 0., 0.],\n",
              "       [0., 0., 0.],\n",
              "       [0., 0., 0.]])"
            ]
          },
          "metadata": {},
          "execution_count": 13
        }
      ]
    },
    {
      "cell_type": "markdown",
      "source": [
        "### Create Array with Random Values"
      ],
      "metadata": {
        "id": "snEUddBauD-D"
      }
    },
    {
      "cell_type": "code",
      "source": [
        "np.random.random((5,2))"
      ],
      "metadata": {
        "colab": {
          "base_uri": "https://localhost:8080/"
        },
        "id": "1qmzk4QksNXD",
        "outputId": "ba25d0bc-ebaa-40b9-d96f-3247e0d0c0bd"
      },
      "execution_count": null,
      "outputs": [
        {
          "output_type": "execute_result",
          "data": {
            "text/plain": [
              "array([[0.62981221, 0.03323481],\n",
              "       [0.5548516 , 0.52059144],\n",
              "       [0.65805041, 0.91083283],\n",
              "       [0.10583742, 0.3787707 ],\n",
              "       [0.47101046, 0.71477554]])"
            ]
          },
          "metadata": {},
          "execution_count": 14
        }
      ]
    },
    {
      "cell_type": "markdown",
      "source": [
        "### Create Array with arange function"
      ],
      "metadata": {
        "id": "TMsas0bmuRJA"
      }
    },
    {
      "cell_type": "code",
      "source": [
        "np.arange(0,5)"
      ],
      "metadata": {
        "colab": {
          "base_uri": "https://localhost:8080/"
        },
        "id": "euIYp2KtuPkY",
        "outputId": "f9d5bace-011b-45fb-d970-d02b673973af"
      },
      "execution_count": null,
      "outputs": [
        {
          "output_type": "execute_result",
          "data": {
            "text/plain": [
              "array([0, 1, 2, 3, 4])"
            ]
          },
          "metadata": {},
          "execution_count": 15
        }
      ]
    },
    {
      "cell_type": "code",
      "source": [
        "np.arange(5)"
      ],
      "metadata": {
        "colab": {
          "base_uri": "https://localhost:8080/"
        },
        "id": "KB-BOq8OujQB",
        "outputId": "3e0fe316-7db1-44e2-e16f-350942846bcd"
      },
      "execution_count": null,
      "outputs": [
        {
          "output_type": "execute_result",
          "data": {
            "text/plain": [
              "array([0, 1, 2, 3, 4])"
            ]
          },
          "metadata": {},
          "execution_count": 16
        }
      ]
    },
    {
      "cell_type": "code",
      "source": [
        "np.arange(0,5,2)"
      ],
      "metadata": {
        "colab": {
          "base_uri": "https://localhost:8080/"
        },
        "id": "Ej92YNjiulXr",
        "outputId": "363700e2-28c9-4865-a28e-f061fa805147"
      },
      "execution_count": null,
      "outputs": [
        {
          "output_type": "execute_result",
          "data": {
            "text/plain": [
              "array([0, 2, 4])"
            ]
          },
          "metadata": {},
          "execution_count": 17
        }
      ]
    },
    {
      "cell_type": "markdown",
      "source": [
        "# Shape of Array"
      ],
      "metadata": {
        "id": "fPXTvscUw-tb"
      }
    },
    {
      "cell_type": "code",
      "source": [
        "one_d_arr.shape"
      ],
      "metadata": {
        "colab": {
          "base_uri": "https://localhost:8080/"
        },
        "id": "GNjKWxGWunFb",
        "outputId": "fa056b22-c215-46ae-cc99-b146319d3687"
      },
      "execution_count": null,
      "outputs": [
        {
          "output_type": "execute_result",
          "data": {
            "text/plain": [
              "(3,)"
            ]
          },
          "metadata": {},
          "execution_count": 18
        }
      ]
    },
    {
      "cell_type": "code",
      "source": [
        "three_d_arr.shape"
      ],
      "metadata": {
        "colab": {
          "base_uri": "https://localhost:8080/"
        },
        "id": "FjWlwsIwxGum",
        "outputId": "72105319-0171-45c7-e1bc-a248cdf57007"
      },
      "execution_count": null,
      "outputs": [
        {
          "output_type": "execute_result",
          "data": {
            "text/plain": [
              "(2, 2, 3)"
            ]
          },
          "metadata": {},
          "execution_count": 20
        }
      ]
    },
    {
      "cell_type": "markdown",
      "source": [
        "# Flatten Method\n"
      ],
      "metadata": {
        "id": "pFO_eDmZxPpk"
      }
    },
    {
      "cell_type": "code",
      "source": [
        "two_d_arr"
      ],
      "metadata": {
        "colab": {
          "base_uri": "https://localhost:8080/"
        },
        "id": "CV7LxbjCxfz3",
        "outputId": "346f2bca-c9b5-450b-be84-b3bf55e254d4"
      },
      "execution_count": null,
      "outputs": [
        {
          "output_type": "execute_result",
          "data": {
            "text/plain": [
              "array([[1, 2, 3],\n",
              "       [4, 5, 6]])"
            ]
          },
          "metadata": {},
          "execution_count": 27
        }
      ]
    },
    {
      "cell_type": "code",
      "source": [
        "# concatenates the rows at the end of previous row\n",
        "two_d_arr.flatten(order='C')"
      ],
      "metadata": {
        "colab": {
          "base_uri": "https://localhost:8080/"
        },
        "id": "1zsAYK0axPCD",
        "outputId": "2a034a2d-2028-4cbf-e908-57ce24198648"
      },
      "execution_count": null,
      "outputs": [
        {
          "output_type": "execute_result",
          "data": {
            "text/plain": [
              "array([1, 2, 3, 4, 5, 6])"
            ]
          },
          "metadata": {},
          "execution_count": 29
        }
      ]
    },
    {
      "cell_type": "code",
      "source": [
        "# concatenates\n",
        "two_d_arr.flatten(order='F')"
      ],
      "metadata": {
        "colab": {
          "base_uri": "https://localhost:8080/"
        },
        "id": "cCWBV_JWxVl-",
        "outputId": "523d1b0e-bd62-433a-eb9c-581e97f80151"
      },
      "execution_count": null,
      "outputs": [
        {
          "output_type": "execute_result",
          "data": {
            "text/plain": [
              "array([1, 4, 2, 5, 3, 6])"
            ]
          },
          "metadata": {},
          "execution_count": 30
        }
      ]
    },
    {
      "cell_type": "markdown",
      "source": [
        "#Reshape method"
      ],
      "metadata": {
        "id": "_H610GbDGEEs"
      }
    },
    {
      "cell_type": "code",
      "source": [
        "two_d_arr.reshape((3,2))"
      ],
      "metadata": {
        "colab": {
          "base_uri": "https://localhost:8080/"
        },
        "id": "svOynO_wGpc_",
        "outputId": "0f1d9676-6400-403e-a496-16f2edd63c90"
      },
      "execution_count": null,
      "outputs": [
        {
          "output_type": "execute_result",
          "data": {
            "text/plain": [
              "array([[1, 2],\n",
              "       [3, 4],\n",
              "       [5, 6]])"
            ]
          },
          "metadata": {},
          "execution_count": 31
        }
      ]
    },
    {
      "cell_type": "markdown",
      "source": [
        "# Numpy Data Types\n",
        "\n",
        "* Numpy has very specific datatypes for `int` and `float`.\n",
        "\n",
        "* `np.int32, np.int64, np.float32, np.float64`"
      ],
      "metadata": {
        "id": "vWbZv1iTJBrl"
      }
    },
    {
      "cell_type": "markdown",
      "source": [
        "## Check data type"
      ],
      "metadata": {
        "id": "oW2s9pwzMAuy"
      }
    },
    {
      "cell_type": "code",
      "source": [
        "one_d_arr.dtype"
      ],
      "metadata": {
        "colab": {
          "base_uri": "https://localhost:8080/"
        },
        "id": "HrtRzyNUGroJ",
        "outputId": "0f5b3b6a-bba2-45d5-db2d-78cb65cd4f93"
      },
      "execution_count": null,
      "outputs": [
        {
          "output_type": "execute_result",
          "data": {
            "text/plain": [
              "dtype('int64')"
            ]
          },
          "metadata": {},
          "execution_count": 32
        }
      ]
    },
    {
      "cell_type": "code",
      "source": [
        "np.array(['hello']).dtype"
      ],
      "metadata": {
        "colab": {
          "base_uri": "https://localhost:8080/"
        },
        "id": "AfQEZW3VMJn7",
        "outputId": "f92b3383-866f-4af1-906c-9f139a0877e1"
      },
      "execution_count": null,
      "outputs": [
        {
          "output_type": "execute_result",
          "data": {
            "text/plain": [
              "dtype('<U5')"
            ]
          },
          "metadata": {},
          "execution_count": 33
        }
      ]
    },
    {
      "cell_type": "markdown",
      "source": [
        "## Setting Data type while creation"
      ],
      "metadata": {
        "id": "AFHKRlLNUgBq"
      }
    },
    {
      "cell_type": "code",
      "source": [
        "np.array([1.5, 2.6], dtype=np.float64).dtype"
      ],
      "metadata": {
        "colab": {
          "base_uri": "https://localhost:8080/"
        },
        "id": "xUembaKwUX0Z",
        "outputId": "15c30ec3-3af8-4c9b-96ff-1eceed1fdb90"
      },
      "execution_count": null,
      "outputs": [
        {
          "output_type": "execute_result",
          "data": {
            "text/plain": [
              "dtype('float64')"
            ]
          },
          "metadata": {},
          "execution_count": 35
        }
      ]
    },
    {
      "cell_type": "markdown",
      "source": [
        "## Setting data type after creation"
      ],
      "metadata": {
        "id": "s_EscIwMWR8q"
      }
    },
    {
      "cell_type": "code",
      "source": [
        "np.array([True, 23.23, 1, \"Hello\"]).astype('<U4')"
      ],
      "metadata": {
        "colab": {
          "base_uri": "https://localhost:8080/"
        },
        "id": "syp4_cqDV1UY",
        "outputId": "ade2ee54-7fa6-45d4-d075-e5a4caa644cc"
      },
      "execution_count": null,
      "outputs": [
        {
          "output_type": "execute_result",
          "data": {
            "text/plain": [
              "array(['True', '23.2', '1', 'Hell'], dtype='<U4')"
            ]
          },
          "metadata": {},
          "execution_count": 37
        }
      ]
    },
    {
      "cell_type": "code",
      "source": [],
      "metadata": {
        "id": "KDIsgHYuXRh7"
      },
      "execution_count": null,
      "outputs": []
    }
  ]
}